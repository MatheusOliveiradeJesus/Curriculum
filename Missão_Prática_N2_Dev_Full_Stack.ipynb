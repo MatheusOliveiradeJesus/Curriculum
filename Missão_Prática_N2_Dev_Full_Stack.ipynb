{
  "nbformat": 4,
  "nbformat_minor": 0,
  "metadata": {
    "colab": {
      "provenance": [],
      "authorship_tag": "ABX9TyMU2BdBS2CvWkQdMNAM4ZFT",
      "include_colab_link": true
    },
    "kernelspec": {
      "name": "python3",
      "display_name": "Python 3"
    },
    "language_info": {
      "name": "python"
    }
  },
  "cells": [
    {
      "cell_type": "markdown",
      "metadata": {
        "id": "view-in-github",
        "colab_type": "text"
      },
      "source": [
        "<a href=\"https://colab.research.google.com/github/MatheusOliveiradeJesus/Curriculum/blob/main/Miss%C3%A3o_Pr%C3%A1tica_N2_Dev_Full_Stack.ipynb\" target=\"_parent\"><img src=\"https://colab.research.google.com/assets/colab-badge.svg\" alt=\"Open In Colab\"/></a>"
      ]
    },
    {
      "cell_type": "code",
      "execution_count": 1,
      "metadata": {
        "colab": {
          "base_uri": "https://localhost:8080/"
        },
        "id": "lA1Dadh16nRo",
        "outputId": "cd39fb3a-870b-4123-983f-e32409f958ac"
      },
      "outputs": [
        {
          "output_type": "stream",
          "name": "stdout",
          "text": [
            "Número na base decimal: 23\n",
            "Conversão para base binária: 10111\n"
          ]
        }
      ],
      "source": [
        "numero_base_decimal = 23\n",
        "numero_base_binaria = \"{0:b}\".format(numero_base_decimal)\n",
        "print(f'Número na base decimal: {numero_base_decimal}')\n",
        "print(f'Conversão para base binária: {numero_base_binaria}')"
      ]
    },
    {
      "cell_type": "code",
      "source": [
        "num = int(input(\"Digite um número decimal: \"))\n",
        "\n",
        "binario = bin(num)[2:]\n",
        "\n",
        "print(f\"A base binária do número {num} é {binario}\")"
      ],
      "metadata": {
        "colab": {
          "base_uri": "https://localhost:8080/"
        },
        "id": "s0c3MSuu95j9",
        "outputId": "e08c59d6-9571-4853-e717-6a264796ee67"
      },
      "execution_count": 3,
      "outputs": [
        {
          "output_type": "stream",
          "name": "stdout",
          "text": [
            "Digite um número decimal: 23\n",
            "A base binária do número 23 é 10111\n"
          ]
        }
      ]
    }
  ]
}